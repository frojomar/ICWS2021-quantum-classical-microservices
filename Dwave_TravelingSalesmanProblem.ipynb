{
 "cells": [
  {
   "cell_type": "markdown",
   "metadata": {},
   "source": [
    "# TUTORIAL FOR TRAVELING SALESMAN PROBLEM"
   ]
  },
  {
   "cell_type": "markdown",
   "metadata": {},
   "source": [
    "## IMPORTS AND SETUP"
   ]
  },
  {
   "cell_type": "code",
   "execution_count": 27,
   "metadata": {},
   "outputs": [],
   "source": [
    "!pip install pandas -q"
   ]
  },
  {
   "cell_type": "code",
   "execution_count": 28,
   "metadata": {},
   "outputs": [],
   "source": [
    "import boto3\n",
    "from braket.aws import AwsDevice\n",
    "from braket.ocean_plugin import BraketSampler, BraketDWaveSampler"
   ]
  },
  {
   "cell_type": "code",
   "execution_count": 29,
   "metadata": {},
   "outputs": [],
   "source": [
    "import numpy as np\n",
    "import networkx as nx\n",
    "import dimod\n",
    "import dwave_networkx as dnx\n",
    "from dimod.binary_quadratic_model import BinaryQuadraticModel\n",
    "from dwave.system.composites import EmbeddingComposite\n",
    "import matplotlib.pyplot as plt\n",
    "# magic word for producing visualizations in notebook\n",
    "%matplotlib inline\n",
    "from collections import defaultdict\n",
    "import itertools\n",
    "import pandas as pd"
   ]
  },
  {
   "cell_type": "code",
   "execution_count": 30,
   "metadata": {},
   "outputs": [
    {
     "name": "stdout",
     "output_type": "stream",
     "text": [
      "The autoreload extension is already loaded. To reload it, use:\n",
      "  %reload_ext autoreload\n"
     ]
    }
   ],
   "source": [
    "# local imports\n",
    "from utils_tsp import get_distance, traveling_salesperson\n",
    "\n",
    "%load_ext autoreload\n",
    "%autoreload 2"
   ]
  },
  {
   "cell_type": "code",
   "execution_count": 31,
   "metadata": {},
   "outputs": [],
   "source": [
    "# Please enter the S3 bucket you created during onboarding in the code below\n",
    "my_bucket = f\"amazon-braket-7c2f2fa45286\" # the name of the bucket\n",
    "my_prefix = \"tsp_dwave\" # the name of the folder in the bucket\n",
    "s3_folder = (my_bucket, my_prefix)"
   ]
  },
  {
   "cell_type": "code",
   "execution_count": 32,
   "metadata": {},
   "outputs": [],
   "source": [
    "# fix random seed for reproducibility\n",
    "seed = 1\n",
    "np.random.seed(seed)"
   ]
  },
  {
   "cell_type": "markdown",
   "metadata": {},
   "source": [
    "## IMPORT DATASET"
   ]
  },
  {
   "cell_type": "markdown",
   "metadata": {},
   "source": [
    "Here, we start with a very small dataset comprising four cities only. "
   ]
  },
  {
   "cell_type": "code",
   "execution_count": 33,
   "metadata": {},
   "outputs": [],
   "source": [
    "# load dataset\n",
    "data = pd.read_csv('four_d.txt', sep='\\s+', header=None)"
   ]
  },
  {
   "cell_type": "code",
   "execution_count": 34,
   "metadata": {},
   "outputs": [
    {
     "data": {
      "text/html": [
       "<div>\n",
       "<style scoped>\n",
       "    .dataframe tbody tr th:only-of-type {\n",
       "        vertical-align: middle;\n",
       "    }\n",
       "\n",
       "    .dataframe tbody tr th {\n",
       "        vertical-align: top;\n",
       "    }\n",
       "\n",
       "    .dataframe thead th {\n",
       "        text-align: right;\n",
       "    }\n",
       "</style>\n",
       "<table border=\"1\" class=\"dataframe\">\n",
       "  <thead>\n",
       "    <tr style=\"text-align: right;\">\n",
       "      <th></th>\n",
       "      <th>0</th>\n",
       "      <th>1</th>\n",
       "      <th>2</th>\n",
       "      <th>3</th>\n",
       "    </tr>\n",
       "  </thead>\n",
       "  <tbody>\n",
       "    <tr>\n",
       "      <th>0</th>\n",
       "      <td>0.0</td>\n",
       "      <td>4.0</td>\n",
       "      <td>1.0</td>\n",
       "      <td>2.0</td>\n",
       "    </tr>\n",
       "    <tr>\n",
       "      <th>1</th>\n",
       "      <td>4.0</td>\n",
       "      <td>0.0</td>\n",
       "      <td>2.0</td>\n",
       "      <td>2.0</td>\n",
       "    </tr>\n",
       "    <tr>\n",
       "      <th>2</th>\n",
       "      <td>1.0</td>\n",
       "      <td>2.0</td>\n",
       "      <td>0.0</td>\n",
       "      <td>1.0</td>\n",
       "    </tr>\n",
       "    <tr>\n",
       "      <th>3</th>\n",
       "      <td>2.0</td>\n",
       "      <td>2.0</td>\n",
       "      <td>1.0</td>\n",
       "      <td>0.0</td>\n",
       "    </tr>\n",
       "  </tbody>\n",
       "</table>\n",
       "</div>"
      ],
      "text/plain": [
       "     0    1    2    3\n",
       "0  0.0  4.0  1.0  2.0\n",
       "1  4.0  0.0  2.0  2.0\n",
       "2  1.0  2.0  0.0  1.0\n",
       "3  2.0  2.0  1.0  0.0"
      ]
     },
     "execution_count": 34,
     "metadata": {},
     "output_type": "execute_result"
    }
   ],
   "source": [
    "# show data set for inter-city distances\n",
    "data"
   ]
  },
  {
   "cell_type": "code",
   "execution_count": 35,
   "metadata": {},
   "outputs": [
    {
     "name": "stdout",
     "output_type": "stream",
     "text": [
      "Distance between city 0 and city 1 is 4.0.\n"
     ]
    }
   ],
   "source": [
    "# distance between two example cities\n",
    "idx_city1 = 0\n",
    "idx_city2 = 1\n",
    "distance = data[idx_city1][idx_city2]\n",
    "print('Distance between city {} and city {} is {}.'.format(idx_city1, idx_city2, distance))"
   ]
  },
  {
   "cell_type": "code",
   "execution_count": 36,
   "metadata": {},
   "outputs": [
    {
     "name": "stdout",
     "output_type": "stream",
     "text": [
      "Total number of cities: 4\n"
     ]
    }
   ],
   "source": [
    "# get number of cities\n",
    "number_cities = data.shape[0]\n",
    "print('Total number of cities:', number_cities)"
   ]
  },
  {
   "cell_type": "markdown",
   "metadata": {},
   "source": [
    "## SET UP GRAPH"
   ]
  },
  {
   "cell_type": "markdown",
   "metadata": {},
   "source": [
    "We can generate ```networkx``` graphs from ```pandas``` data frames, as explained [here](https://networkx.github.io/documentation/stable/reference/convert.html#pandas) and in particular [here](https://networkx.github.io/documentation/stable/reference/generated/networkx.convert_matrix.from_pandas_adjacency.html?highlight=from%20pandas#networkx.convert_matrix.from_pandas_adjacency)."
   ]
  },
  {
   "cell_type": "code",
   "execution_count": 37,
   "metadata": {},
   "outputs": [],
   "source": [
    "# G = nx.from_pandas_dataframe(data) \n",
    "G = nx.from_pandas_adjacency(data)\n",
    "# pos = nx.random_layout(G) \n",
    "pos = nx.spring_layout(G, seed=seed)\n",
    "\n",
    "# get characteristics of graph\n",
    "nodes = G.nodes()\n",
    "edges = G.edges()\n",
    "weights = nx.get_edge_attributes(G,'weight');"
   ]
  },
  {
   "cell_type": "code",
   "execution_count": 38,
   "metadata": {},
   "outputs": [
    {
     "name": "stdout",
     "output_type": "stream",
     "text": [
      "Weights of graph: {(0, 1): 4.0, (0, 2): 1.0, (0, 3): 2.0, (1, 2): 2.0, (1, 3): 2.0, (2, 3): 1.0}\n"
     ]
    }
   ],
   "source": [
    "# print weights of graph\n",
    "print('Weights of graph:', weights)"
   ]
  },
  {
   "cell_type": "code",
   "execution_count": 39,
   "metadata": {},
   "outputs": [
    {
     "data": {
      "image/png": "[encoded data removed]",
      "text/plain": [
       "<Figure size 432x288 with 1 Axes>"
      ]
     },
     "metadata": {},
     "output_type": "display_data"
    }
   ],
   "source": [
    "# show graph with weigths\n",
    "plt.axis('off'); \n",
    "nx.draw_networkx(G, pos, with_labels=True);\n",
    "nx.draw_networkx_edge_labels(G, pos, edge_labels=weights);"
   ]
  },
  {
   "cell_type": "markdown",
   "metadata": {},
   "source": [
    "The weights of this fully-connected graph correspond to the distances between the cities. "
   ]
  },
  {
   "cell_type": "markdown",
   "metadata": {},
   "source": [
    "## QUBO FOR TSP"
   ]
  },
  {
   "cell_type": "markdown",
   "metadata": {},
   "source": [
    "We can get the QUBO matrix using the ```traveling_salesperson_qubo``` method as described [here](https://docs.ocean.dwavesys.com/projects/dwave-networkx/en/latest/reference/algorithms/generated/dwave_networkx.algorithms.tsp.traveling_salesperson_qubo.html#dwave_networkx.algorithms.tsp.traveling_salesperson_qubo).\n",
    "This method will return the QUBO with ground states corresponding to a minimum TSP route.\n",
    "Here, if $|G|$ is the number of nodes (cities) in the original graph, the resulting QUBO will have $|G|^2$ variables/nodes\n",
    "and $|G|^2(|G|^2-1)/2$ edges. \n",
    "There is a quadratic overhead because of the binary encoding $x_{i,j}=1$ if city $i$ is at position $j$ on the route and zero otherwise. \n",
    "The Lagrange penalty parameter enforces the constraints that every city should be visited exactly once in our route (i.e., we do not leave out any city and we do not visit cities multiple times). \n",
    "As this parameter can be tuned we will run hyperparameter optimization (HPO) to find a good value for this hyperparameter. "
   ]
  },
  {
   "cell_type": "code",
   "execution_count": 40,
   "metadata": {},
   "outputs": [],
   "source": [
    "# get QUBO for TSP\n",
    "tsp_qubo = dnx.algorithms.tsp.traveling_salesperson_qubo(G)"
   ]
  },
  {
   "cell_type": "code",
   "execution_count": 41,
   "metadata": {},
   "outputs": [
    {
     "name": "stdout",
     "output_type": "stream",
     "text": [
      "Default Lagrange parameter: 8.0\n"
     ]
    }
   ],
   "source": [
    "# find default Langrange parameter for enforcing constraints\n",
    "\n",
    "# set parameters\n",
    "lagrange = None\n",
    "weight='weight'\n",
    "\n",
    "# get corresponding QUBO step by step\n",
    "N = G.number_of_nodes()\n",
    "\n",
    "if lagrange is None:\n",
    "    # If no lagrange parameter provided, set to 'average' tour length.\n",
    "    # Usually a good estimate for a lagrange parameter is between 75-150%\n",
    "    # of the objective function value, so we come up with an estimate for \n",
    "    # tour length and use that.\n",
    "    if G.number_of_edges()>0:\n",
    "        lagrange = G.size(weight=weight)*G.number_of_nodes()/G.number_of_edges()\n",
    "    else:\n",
    "        lagrange = 2\n",
    "\n",
    "print('Default Lagrange parameter:', lagrange)   "
   ]
  },
  {
   "cell_type": "code",
   "execution_count": 42,
   "metadata": {},
   "outputs": [
    {
     "name": "stdout",
     "output_type": "stream",
     "text": [
      "Lagrange parameter for HPO: [6, 7]\n"
     ]
    }
   ],
   "source": [
    "# create list around default value for HPO \n",
    "lagrange_list= list(np.arange(int(0.8*lagrange), int(1.1*lagrange)))\n",
    "print('Lagrange parameter for HPO:', lagrange_list)"
   ]
  },
  {
   "cell_type": "markdown",
   "metadata": {},
   "source": [
    "## SOLUTION WITH SIMULATED ANNEALING"
   ]
  },
  {
   "cell_type": "markdown",
   "metadata": {},
   "source": [
    "First let us solve the TSP problem with classical simulated annealing.\n",
    "To this end we can simply call the built-in ```traveling_salesperson(...)``` routine from the ```dwave_networkx``` package using the ```SimulatedAnnealingSampler``` sampler as provided in the standard Ocean tool suite. "
   ]
  },
  {
   "cell_type": "code",
   "execution_count": 43,
   "metadata": {},
   "outputs": [
    {
     "name": "stdout",
     "output_type": "stream",
     "text": [
      "Route found with simulated annealing: [0, 2, 1, 3]\n"
     ]
    }
   ],
   "source": [
    "# use (classical) simulated annealing\n",
    "sampler = dimod.SimulatedAnnealingSampler()\n",
    "# route = dnx.traveling_salesperson(G, dimod.ExactSolver(), start=0)\n",
    "route = dnx.traveling_salesperson(G, sampler, start=0)\n",
    "print('Route found with simulated annealing:', route)"
   ]
  },
  {
   "cell_type": "code",
   "execution_count": 44,
   "metadata": {},
   "outputs": [
    {
     "name": "stdout",
     "output_type": "stream",
     "text": [
      "Total distance (without return): 5.0\n"
     ]
    }
   ],
   "source": [
    "# get the total distance\n",
    "total_dist = 0\n",
    "for idx, node in enumerate(route[:-1]):\n",
    "    dist = data[route[idx+1]][route[idx]]\n",
    "    total_dist += dist\n",
    "\n",
    "print('Total distance (without return):', total_dist)"
   ]
  },
  {
   "cell_type": "code",
   "execution_count": 45,
   "metadata": {},
   "outputs": [
    {
     "name": "stdout",
     "output_type": "stream",
     "text": [
      "Distance between start and end: 2.0\n"
     ]
    }
   ],
   "source": [
    "# add distance between start and end point to complete cycle\n",
    "return_distance = data[route[0]][route[-1]]\n",
    "print('Distance between start and end:', return_distance)"
   ]
  },
  {
   "cell_type": "code",
   "execution_count": 46,
   "metadata": {},
   "outputs": [
    {
     "name": "stdout",
     "output_type": "stream",
     "text": [
      "Total distance (including return): 7.0\n"
     ]
    }
   ],
   "source": [
    "# get distance for full cyle \n",
    "distance = total_dist + return_distance\n",
    "print('Total distance (including return):', distance)"
   ]
  },
  {
   "cell_type": "markdown",
   "metadata": {},
   "source": [
    "## SOLUTION WITH QUANTUM ANNEALING ON D-WAVE WITH HPO FOR LAGRANGE PARAMETER"
   ]
  },
  {
   "cell_type": "markdown",
   "metadata": {},
   "source": [
    "Now let us run the TSP problem on D-Wave's 2000Q QPU, together with hyperparameter optimization for the Langrange parameter.\n",
    "To this end, we augment the ```traveling_salesperson(...)``` routine with post-processing heuristics that correct for invalid solutions if some cities are not present in the sample produced by D-Wave or if some cities are duplicates in the route. \n",
    "The original source code for ```traveling_salesperson(...)``` can be found in the Appendix. "
   ]
  },
  {
   "cell_type": "code",
   "execution_count": 47,
   "metadata": {},
   "outputs": [
    {
     "name": "stdout",
     "output_type": "stream",
     "text": [
      "Running quantum annealing for TSP with Lagrange parameter= 6\n",
      "Route found with D-Wave: [0, 2, 1, 3]\n",
      "Total distance (without return): 5.0\n",
      "Total distance (including return): 7.0\n",
      "Running quantum annealing for TSP with Lagrange parameter= 7\n",
      "Route found with D-Wave: [0, 3, 1, 2]\n",
      "Total distance (without return): 6.0\n",
      "Total distance (including return): 7.0\n",
      "---FINAL SOLUTION---\n",
      "Best solution found with D-Wave: [0, 2, 1, 3]\n",
      "Total distance (including return): 7.0\n"
     ]
    }
   ],
   "source": [
    "def TSP(G):\n",
    "    # run TSP with imported TSP routine\n",
    "    sampler = BraketDWaveSampler(s3_folder,'arn:aws:braket:::device/qpu/d-wave/DW_2000Q_6')\n",
    "    sampler = EmbeddingComposite(sampler)\n",
    "\n",
    "    # set parameters\n",
    "    num_shots = 1000\n",
    "    start_city = 0\n",
    "    best_distance = sum(weights.values())\n",
    "    best_route = [None]*len(G)\n",
    "\n",
    "    # run HPO to find route\n",
    "    for lagrange in lagrange_list:\n",
    "        print('Running quantum annealing for TSP with Lagrange parameter=', lagrange)\n",
    "        route = traveling_salesperson(G, sampler, lagrange=lagrange, \n",
    "                                      start=start_city, num_reads=num_shots, answer_mode=\"histogram\")\n",
    "\n",
    "\n",
    "        # print distance\n",
    "        total_dist, distance_with_return = get_distance(route, data)\n",
    "\n",
    "        # update best values\n",
    "        if distance_with_return < best_distance:\n",
    "            best_distance = distance_with_return\n",
    "            best_route = route\n",
    "\n",
    "    return best_route, best_distance\n",
    "\n",
    "TSP(G)\n",
    "print('---FINAL SOLUTION---')\n",
    "print('Best solution found with D-Wave:', best_route)\n",
    "print('Total distance (including return):', best_distance)"
   ]
  },
  {
   "cell_type": "markdown",
   "metadata": {},
   "source": [
    "Now let us visualize the solution found by the D-Wave QPU. \n",
    "First we plot again the original graph with nodes representing cities and weighted edges representing distances between the cities. \n",
    "It is a complete graph showing the distance for every pair of cities. \n",
    "Then, we plot below the graph showing the proposed route, with steps labelling the specific sequence connecting the individual stops on the route. "
   ]
  },
  {
   "cell_type": "code",
   "execution_count": 48,
   "metadata": {},
   "outputs": [
    {
     "data": {
      "image/png": "[encoded data removed]",
      "text/plain": [
       "<Figure size 432x288 with 1 Axes>"
      ]
     },
     "metadata": {},
     "output_type": "display_data"
    }
   ],
   "source": [
    "# show original graph with weigths\n",
    "plt.axis('off'); \n",
    "nx.draw_networkx(G, pos, with_labels=True, font_color='w');\n",
    "nx.draw_networkx_edge_labels(G, pos, edge_labels=weights);"
   ]
  },
  {
   "cell_type": "code",
   "execution_count": 49,
   "metadata": {},
   "outputs": [],
   "source": [
    "# get mapping from original nodes to position in cycle\n",
    "node_labels = {list(nodes)[ii]: best_route[ii] for ii in range(number_cities)}"
   ]
  },
  {
   "cell_type": "code",
   "execution_count": 50,
   "metadata": {},
   "outputs": [],
   "source": [
    "# Construct route as list of (node_i, node_i+1)\n",
    "sol_graph_base = [(best_route[idx], best_route[idx+1]) for idx in range(len(best_route)-1)]\n",
    "# Establish weights between nodes along route, allowing for mirrored keys (i.e. weights[(0, 1)] = weights[(1, 0)])\n",
    "best_weights = {k: weights[k] if k in weights.keys() else weights[(k[1],k[0])] for k in sol_graph_base}\n",
    "# Rebuild graph containing only route connections\n",
    "G_best = nx.Graph(sol_graph_base)\n",
    "\n",
    "route_labels = {x: f'step_{i}={best_weights[x]}' for i, x in enumerate(sol_graph_base)}"
   ]
  },
  {
   "cell_type": "code",
   "execution_count": 51,
   "metadata": {},
   "outputs": [
    {
     "data": {
      "image/png": "[encoded data removed]",
      "text/plain": [
       "<Figure size 432x288 with 1 Axes>"
      ]
     },
     "metadata": {},
     "output_type": "display_data"
    }
   ],
   "source": [
    "# show solution\n",
    "plt.axis('off'); \n",
    "nx.draw_networkx(G_best, pos, font_color='w');\n",
    "nx.draw_networkx_edge_labels(G_best, pos, edge_labels=route_labels, label_pos=0.25);"
   ]
  },
  {
   "cell_type": "markdown",
   "metadata": {},
   "source": [
    "In conclusion, in this part of our tutorial we have solved a very small instance of the famous NP-hard TSP problem using both (classical) simulated annealing and quantum annealing using D-Wave's Ocean tool suite that is natively supported on Amazon Braket. \n",
    "While there are classical methods that can solve this problem very efficiently, at least to a very good approximation, this is an educational tutorial focused on the formulation of a specific QUBO problem and the approximate solution thereof using (quantum) annealing methods. \n",
    "Below we extend our analysis to larger problem sizes that cannot be embedded on the 2000Q D-Wave chip with Chimera connectivity, but can be run on the larger Advantage chip with $\\sim 5000$ physical variables and Pegasus connectivity. "
   ]
  }
 ],
 "metadata": {
  "kernelspec": {
   "display_name": "conda_braket",
   "language": "python",
   "name": "conda_braket"
  },
  "language_info": {
   "codemirror_mode": {
    "name": "ipython",
    "version": 3
   },
   "file_extension": ".py",
   "mimetype": "text/x-python",
   "name": "python",
   "nbconvert_exporter": "python",
   "pygments_lexer": "ipython3",
   "version": "3.7.9"
  }
 },
 "nbformat": 4,
 "nbformat_minor": 4
}
