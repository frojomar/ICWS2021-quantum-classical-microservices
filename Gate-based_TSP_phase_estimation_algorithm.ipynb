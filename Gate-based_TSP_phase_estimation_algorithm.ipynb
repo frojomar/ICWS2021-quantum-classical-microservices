{
 "cells": [
  {
   "cell_type": "code",
   "execution_count": 26,
   "id": "usual-monkey",
   "metadata": {},
   "outputs": [],
   "source": [
    "# general imports\n",
    "import matplotlib.pyplot as plt\n",
    "# magic word for producing visualizations in notebook\n",
    "%matplotlib inline\n",
    "import string\n",
    "import time\n",
    "import numpy as np\n",
    "import math\n",
    "from random import randint\n",
    "\n",
    "# AWS imports: Import Braket SDK modules\n",
    "from braket.circuits import Circuit, Gate, Observable\n",
    "from braket.devices import LocalSimulator\n",
    "from braket.aws import AwsDevice"
   ]
  },
  {
   "cell_type": "markdown",
   "id": "careful-stack",
   "metadata": {},
   "source": [
    "# 1. QPE"
   ]
  },
  {
   "cell_type": "markdown",
   "id": "muslim-potter",
   "metadata": {},
   "source": [
    "URL paper: https://arxiv.org/pdf/1805.10928.pdf"
   ]
  },
  {
   "cell_type": "code",
   "execution_count": 27,
   "id": "complimentary-august",
   "metadata": {},
   "outputs": [],
   "source": [
    "def crz(circ, tetha, a, b): \n",
    "    circ.rz(b, tetha/2)\n",
    "    circ.cnot(a,b)\n",
    "    circ.rz(b, -tetha/2)\n",
    "    circ.cnot(a,b)"
   ]
  },
  {
   "cell_type": "code",
   "execution_count": 28,
   "id": "legitimate-workshop",
   "metadata": {},
   "outputs": [],
   "source": [
    "def controlled_U(circ,a,b,c,d,n,k):\n",
    "    \"\"\"this is corresponding to the C-U_j in equation (8) \"\"\"\n",
    "    crz(circ, c-a, n_ancilla-k, n_ancilla+n)\n",
    "    circ.rz(n_ancilla-k, a)  \n",
    "    crz(circ, b-a, n_ancilla-k, n_ancilla+n+1)\n",
    "    circ.ccnot(n_ancilla-k, n_ancilla+n, n_ancilla+n+1)\n",
    "    circ.rz(n_ancilla+n+1, d+c-b-a)\n",
    "    circ.ccnot(n_ancilla-k, n_ancilla+n, n_ancilla+n+1)"
   ]
  },
  {
   "cell_type": "code",
   "execution_count": 29,
   "id": "atmospheric-handbook",
   "metadata": {},
   "outputs": [],
   "source": [
    "def qft_dagger(circ, n):\n",
    "    \"\"\"n-qubit QFTdagger on q in circ.\"\"\"\n",
    "    for j in range(n):\n",
    "        k = (n-1) - j\n",
    "        for m in range(k):\n",
    "            crz(circ, -math.pi/float(2**(k-m)), k, m)\n",
    "        circ.h(k)\n"
   ]
  },
  {
   "cell_type": "code",
   "execution_count": 30,
   "id": "disciplinary-width",
   "metadata": {},
   "outputs": [],
   "source": [
    "n_ancilla = 6\n",
    "n_eigenvector = 8"
   ]
  },
  {
   "cell_type": "code",
   "execution_count": 31,
   "id": "asian-south",
   "metadata": {},
   "outputs": [],
   "source": [
    "def recover_task_result(task_load):\n",
    "    # recover task\n",
    "    sleep_times = 0\n",
    "    while sleep_times < 100000:\n",
    "        status = task_load.state()\n",
    "        print('Status of (reconstructed) task:', status, '(',time.time(),')')\n",
    "        print('\\n')\n",
    "        # wait for job to complete\n",
    "        # terminal_states = ['COMPLETED', 'FAILED', 'CANCELLED']\n",
    "        if status == 'COMPLETED':\n",
    "            # get results\n",
    "            return task_load.result()\n",
    "        else:\n",
    "            time.sleep(1)\n",
    "            sleep_times = sleep_times + 1\n",
    "    print(\"Quantum execution time exceded\")\n",
    "    return None\n",
    "\n",
    "\n",
    "def QPE(eigenstate):\n",
    "    \n",
    "    #implementation limited to 8 qubits eigenstates\n",
    "    if len(eigenstate)!=n_eigenvector:\n",
    "        return None\n",
    "    \n",
    "    qpe = Circuit()\n",
    "\n",
    "    for i in range(0, n_eigenvector):\n",
    "        if eigenstate[i]==\"1\":\n",
    "            qpe.x(n_ancilla+i) \n",
    "\n",
    "    for i in range(n_ancilla):\n",
    "        qpe.h(i)\n",
    "\n",
    "    controlled_U(qpe,0,math.pi/2,math.pi/8,math.pi/4,0,1)\n",
    "    controlled_U(qpe,math.pi/2,0,math.pi/4,math.pi/4,2,1)\n",
    "    controlled_U(qpe,math.pi/8,math.pi/4,0,math.pi/8,4,1)\n",
    "    controlled_U(qpe,math.pi/4,math.pi/4,math.pi/8,0,6,1)\n",
    "    for i in range(2):\n",
    "        controlled_U(qpe,0,math.pi/2,math.pi/8,math.pi/4,0,2)\n",
    "        controlled_U(qpe,math.pi/2,0,math.pi/4,math.pi/4,2,2)\n",
    "        controlled_U(qpe,math.pi/8,math.pi/4,0,math.pi/8,4,2)\n",
    "        controlled_U(qpe,math.pi/4,math.pi/4,math.pi/8,0,6,2)\n",
    "    for i in range(4):\n",
    "        controlled_U(qpe,0,math.pi/2,math.pi/8,math.pi/4,0,3)\n",
    "        controlled_U(qpe,math.pi/2,0,math.pi/4,math.pi/4,2,3)\n",
    "        controlled_U(qpe,math.pi/8,math.pi/4,0,math.pi/8,4,3)\n",
    "        controlled_U(qpe,math.pi/4,math.pi/4,math.pi/8,0,6,3)\n",
    "    for i in range(8):\n",
    "        controlled_U(qpe,0,math.pi/2,math.pi/8,math.pi/4,0,4)\n",
    "        controlled_U(qpe,math.pi/2,0,math.pi/4,math.pi/4,2,4)\n",
    "        controlled_U(qpe,math.pi/8,math.pi/4,0,math.pi/8,4,4)\n",
    "        controlled_U(qpe,math.pi/4,math.pi/4,math.pi/8,0,6,4)\n",
    "    for i in range(16):\n",
    "        controlled_U(qpe,0,math.pi/2,math.pi/8,math.pi/4,0,5)\n",
    "        controlled_U(qpe,math.pi/2,0,math.pi/4,math.pi/4,2,5)\n",
    "        controlled_U(qpe,math.pi/8,math.pi/4,0,math.pi/8,4,5)\n",
    "        controlled_U(qpe,math.pi/4,math.pi/4,math.pi/8,0,6,5)\n",
    "    for i in range(32):\n",
    "        controlled_U(qpe,0,math.pi/2,math.pi/8,math.pi/4,0,6)\n",
    "        controlled_U(qpe,math.pi/2,0,math.pi/4,math.pi/4,2,6)\n",
    "        controlled_U(qpe,math.pi/8,math.pi/4,0,math.pi/8,4,6)\n",
    "        controlled_U(qpe,math.pi/4,math.pi/4,math.pi/8,0,6,6)\n",
    "\n",
    "    qft_dagger(qpe,6)\n",
    "\n",
    "    # for i in range(n_ancilla):\n",
    "    #     qpe.measure(q[i],c[i])\n",
    "    #print(qpe)\n",
    "\n",
    "#     # set up device\n",
    "#     device = AwsDevice(\"arn:aws:braket:::device/qpu/rigetti/Aspen-9\")\n",
    "\n",
    "#     # run circuit\n",
    "    \n",
    "#     s3_folder = (\"amazon-braket-7c2f2fa45286\", \"api\")  # Use the S3 bucket you created during onboarding\n",
    "\n",
    "#     task = device.run(qpe, s3_folder, shots=1000, poll_timeout_seconds=5 * 24 * 60 * 60)\n",
    "#     return recover_task_result(task).measurement_counts\n",
    "    \n",
    "        # set up device\n",
    "    device = LocalSimulator()\n",
    "\n",
    "    # run circuit\n",
    "    result = device.run(qpe, shots=10000).result()\n",
    "    # get measurement shots\n",
    "    counts = result.measurement_counts\n",
    "\n",
    "    \n",
    "    \n",
    "    \n",
    "    # print counts\n",
    "    print(counts)\n",
    "    \n",
    "    return counts\n",
    "\n"
   ]
  },
  {
   "cell_type": "code",
   "execution_count": 32,
   "id": "useful-damage",
   "metadata": {},
   "outputs": [
    {
     "name": "stdout",
     "output_type": "stream",
     "text": [
      "Counter({'11010111000110': 971, '00101011000110': 634, '00111111000110': 577, '00110111000110': 546, '00111011000110': 441, '10010111000110': 420, '11000111000110': 375, '11011111000110': 347, '01010111000110': 333, '01110111000110': 273, '00101111000110': 234, '10111111000110': 230, '01111111000110': 212, '11011011000110': 210, '11010011000110': 209, '00010111000110': 207, '10111011000110': 197, '00100011000110': 193, '11111011000110': 191, '10101011000110': 164, '11110111000110': 155, '01111011000110': 152, '01101011000110': 144, '00110011000110': 141, '00001011000110': 141, '10011111000110': 122, '01000111000110': 121, '10000111000110': 111, '11111111000110': 106, '11100111000110': 103, '01011111000110': 103, '10101111000110': 102, '11110011000110': 97, '11101111000110': 97, '00011111000110': 95, '10110111000110': 90, '10010011000110': 90, '11001011000110': 84, '01110011000110': 81, '01101111000110': 78, '01010011000110': 77, '10110011000110': 77, '01011011000110': 73, '10011011000110': 66, '00000011000110': 65, '00001111000110': 65, '10100011000110': 59, '11001111000110': 49, '00000111000110': 42, '10001011000110': 42, '01001111000110': 37, '01100011000110': 29, '00100111000110': 28, '00011011000110': 22, '11100011000110': 21, '00010011000110': 18, '11101011000110': 13, '10100111000110': 10, '01100111000110': 8, '10000011000110': 7, '01001011000110': 5, '01000011000110': 5, '11000011000110': 3, '10001111000110': 2})\n"
     ]
    }
   ],
   "source": [
    "counts = QPE(\"11000110\")"
   ]
  },
  {
   "cell_type": "code",
   "execution_count": 33,
   "id": "random-discount",
   "metadata": {},
   "outputs": [
    {
     "name": "stdout",
     "output_type": "stream",
     "text": [
      "Phase for eigenstate 11000110 : 111101\n"
     ]
    }
   ],
   "source": [
    "measure = list(counts.keys())[0]\n",
    "eigenstate = measure[n_ancilla:]\n",
    "phase = measure[:n_ancilla]\n",
    "print (\"Phase for eigenstate\",eigenstate,\":\",phase)"
   ]
  },
  {
   "cell_type": "code",
   "execution_count": 34,
   "id": "widespread-consultation",
   "metadata": {},
   "outputs": [
    {
     "data": {
      "image/png": "[encoded data removed]",
      "text/plain": [
       "<Figure size 432x288 with 1 Axes>"
      ]
     },
     "metadata": {
      "needs_background": "light"
     },
     "output_type": "display_data"
    }
   ],
   "source": [
    "# plot using Counter\n",
    "plt.bar(counts.keys(), counts.values())\n",
    "plt.xlabel('bitstrings')\n",
    "plt.ylabel('counts')\n",
    "plt.show()"
   ]
  },
  {
   "cell_type": "code",
   "execution_count": 35,
   "id": "enclosed-destruction",
   "metadata": {},
   "outputs": [
    {
     "name": "stdout",
     "output_type": "stream",
     "text": [
      "Counter({'11010111000110': 1047, '00101011000110': 660, '00111111000110': 628, '00110111000110': 479, '00111011000110': 455, '10010111000110': 419, '11000111000110': 355, '01010111000110': 343, '11011111000110': 337, '01111111000110': 239, '11011011000110': 239, '10111111000110': 223, '11010011000110': 222, '00101111000110': 217, '01110111000110': 216, '00010111000110': 209, '10111011000110': 189, '11110111000110': 174, '00110011000110': 169, '11111011000110': 168, '00100011000110': 168, '10101011000110': 160, '01111011000110': 156, '00001011000110': 151, '01101011000110': 144, '10011111000110': 134, '01000111000110': 131, '10000111000110': 124, '11111111000110': 99, '10101111000110': 98, '01011111000110': 92, '11101111000110': 92, '11100111000110': 90, '00011111000110': 87, '11110011000110': 83, '01010011000110': 83, '10010011000110': 82, '10110011000110': 82, '10110111000110': 76, '11001011000110': 75, '01110011000110': 74, '10100011000110': 74, '00001111000110': 71, '10011011000110': 71, '01101111000110': 67, '00000011000110': 62, '01011011000110': 51, '11001111000110': 42, '10001011000110': 37, '01100011000110': 36, '00100111000110': 35, '00000111000110': 32, '01001111000110': 29, '11100011000110': 22, '00011011000110': 21, '11101011000110': 17, '01000011000110': 15, '10100111000110': 12, '00010011000110': 11, '01100111000110': 10, '10000011000110': 7, '11000011000110': 5, '01001011000110': 3, '10001111000110': 1})\n",
      "Counter({'00001001101100': 1404, '11110101101100': 714, '00001101101100': 565, '11111101101100': 500, '01001001101100': 450, '10001001101100': 420, '11101001101100': 367, '00010101101100': 266, '00000001101100': 253, '10001101101100': 220, '10110101101100': 219, '00101001101100': 201, '01001101101100': 200, '10111101101100': 189, '01111101101100': 187, '11001001101100': 174, '01110101101100': 170, '11100101101100': 169, '11101101101100': 167, '00011001101100': 161, '11110001101100': 153, '10101001101100': 150, '00101101101100': 143, '11100001101100': 143, '11011101101100': 141, '11010101101100': 139, '11111001101100': 137, '11011001101100': 117, '00011101101100': 113, '10101101101100': 110, '01110001101100': 98, '00100101101100': 93, '10000001101100': 92, '10011001101100': 91, '01100101101100': 88, '01010101101100': 85, '00110001101100': 84, '00000101101100': 78, '01000001101100': 74, '01111001101100': 72, '01011101101100': 71, '10110001101100': 65, '01101101101100': 57, '10100101101100': 57, '11010001101100': 43, '11000001101100': 43, '01011001101100': 41, '00010001101100': 40, '10111001101100': 38, '10100001101100': 38, '00110101101100': 36, '01100001101100': 34, '11001101101100': 34, '10011101101100': 31, '00111101101100': 27, '01101001101100': 26, '10000101101100': 26, '00111001101100': 24, '11000101101100': 20, '01000101101100': 19, '10010101101100': 14, '00100001101100': 9, '01010001101100': 8, '10010001101100': 2})\n",
      "Counter({'11100110001101': 1206, '00010110001101': 832, '00011010001101': 616, '11110110001101': 485, '00011110001101': 460, '10100110001101': 453, '01100110001101': 433, '00010010001101': 369, '11000110001101': 348, '01010110001101': 314, '10010110001101': 268, '00110110001101': 244, '00000110001101': 238, '10011110001101': 225, '11111010001101': 218, '11101110001101': 210, '10110110001101': 208, '00001110001101': 199, '01000110001101': 161, '01011010001101': 151, '01110110001101': 149, '10011010001101': 148, '01011110001101': 146, '10010010001101': 144, '00111110001101': 124, '01010010001101': 123, '11011110001101': 111, '00100110001101': 105, '01101010001101': 85, '00001010001101': 77, '11110010001101': 75, '00101010001101': 63, '11010010001101': 62, '10111010001101': 60, '11001010001101': 59, '00110010001101': 57, '00111010001101': 56, '11011010001101': 49, '11101010001101': 48, '11010110001101': 47, '01001110001101': 45, '10101110001101': 45, '10000110001101': 44, '10001110001101': 43, '00000010001101': 43, '11100010001101': 38, '10001010001101': 37, '01101110001101': 36, '10110010001101': 34, '11111110001101': 32, '10101010001101': 30, '01100010001101': 28, '11001110001101': 23, '01111010001101': 21, '11000010001101': 14, '10000010001101': 14, '10111110001101': 8, '01110010001101': 6, '10100010001101': 6, '01111110001101': 6, '00101110001101': 6, '00100010001101': 5, '01001010001101': 5, '01000010001101': 5})\n",
      "Counter({'11100001110010': 1248, '00010001110010': 817, '00011101110010': 577, '11110001110010': 498, '10100001110010': 445, '00011001110010': 434, '01100001110010': 408, '00010101110010': 403, '11000001110010': 373, '01010001110010': 313, '10010001110010': 287, '00000001110010': 243, '10110001110010': 214, '11101001110010': 214, '00110001110010': 208, '00001001110010': 198, '11111101110010': 192, '10011001110010': 184, '01000001110010': 179, '01011001110010': 175, '01110001110010': 168, '10010101110010': 164, '10011101110010': 159, '01011101110010': 147, '01010101110010': 132, '11011001110010': 107, '00111001110010': 101, '00100001110010': 91, '00101101110010': 78, '11010101110010': 75, '00111101110010': 69, '10111101110010': 68, '01101101110010': 66, '11110101110010': 64, '00110101110010': 62, '11001101110010': 59, '00001101110010': 55, '11011101110010': 55, '01001001110010': 54, '11101101110010': 51, '10001001110010': 50, '11010001110010': 47, '10000001110010': 45, '00000101110010': 41, '11111001110010': 39, '10101001110010': 39, '11100101110010': 38, '10101101110010': 37, '10110101110010': 36, '01101001110010': 34, '10001101110010': 28, '01100101110010': 23, '11001001110010': 16, '10111001110010': 15, '11000101110010': 14, '01111101110010': 12, '10000101110010': 10, '00100101110010': 9, '10100101110010': 9, '01001101110010': 6, '00101001110010': 6, '01110101110010': 5, '01000101110010': 3, '01111001110010': 3})\n",
      "Counter({'00001011100001': 1353, '11110111100001': 747, '00001111100001': 596, '11111111100001': 472, '01001011100001': 447, '10001011100001': 439, '11101011100001': 389, '00000011100001': 276, '00010111100001': 245, '10110111100001': 230, '00101011100001': 212, '01110111100001': 211, '01111111100001': 210, '10001111100001': 206, '11001011100001': 190, '11101111100001': 184, '01001111100001': 183, '10111111100001': 166, '00011011100001': 165, '11110011100001': 158, '11100111100001': 154, '11100011100001': 152, '10101011100001': 144, '00101111100001': 144, '11010111100001': 143, '11011111100001': 118, '11011011100001': 118, '01010111100001': 105, '11111011100001': 101, '00011111100001': 99, '01110011100001': 95, '10000011100001': 94, '10101111100001': 92, '00100111100001': 90, '01011111100001': 86, '01111011100001': 85, '01100111100001': 83, '00110011100001': 80, '10011011100001': 80, '01000011100001': 73, '00000111100001': 68, '10110011100001': 66, '01101111100001': 63, '10100111100001': 46, '11010011100001': 45, '10100011100001': 43, '10111011100001': 42, '00010011100001': 41, '00110111100001': 36, '11001111100001': 36, '11000011100001': 33, '10011111100001': 31, '00111111100001': 31, '01011011100001': 26, '01100011100001': 25, '01101011100001': 25, '10000111100001': 25, '00111011100001': 22, '11000111100001': 22, '01000111100001': 18, '10010111100001': 18, '00100011100001': 11, '01010011100001': 8, '10010011100001': 4})\n",
      "Counter({'11010010110100': 995, '00101110110100': 640, '00111010110100': 577, '00110010110100': 537, '00111110110100': 453, '10010010110100': 434, '11000010110100': 390, '01010010110100': 341, '11011010110100': 339, '01110010110100': 249, '11011110110100': 236, '00101010110100': 236, '01111010110100': 216, '10111010110100': 207, '10111110110100': 205, '11010110110100': 194, '11110010110100': 191, '00010010110100': 185, '00110110110100': 178, '00100110110100': 174, '00001110110100': 172, '10101110110100': 158, '11111110110100': 151, '01111110110100': 138, '01101110110100': 134, '10011010110100': 134, '01000010110100': 119, '10000010110100': 103, '11110110110100': 97, '11100010110100': 93, '10110010110100': 93, '10101010110100': 93, '11111010110100': 92, '01010110110100': 91, '00011010110100': 89, '10010110110100': 88, '10011110110100': 87, '11001110110100': 87, '01110110110100': 86, '00001010110100': 80, '01011110110100': 75, '10100110110100': 73, '01011010110100': 68, '11101010110100': 67, '00000110110100': 66, '10110110110100': 65, '11001010110100': 52, '01101010110100': 49, '00000010110100': 42, '01001010110100': 39, '10001110110100': 38, '01100110110100': 33, '00100010110100': 31, '11100110110100': 29, '00011110110100': 24, '11101110110100': 20, '00010110110100': 19, '01000110110100': 14, '10100010110100': 10, '10000110110100': 9, '01100010110100': 5, '11000110110100': 4, '01001110110100': 4, '10001010110100': 2})\n"
     ]
    }
   ],
   "source": [
    "#compute phase for all eigenstates\n",
    "\n",
    "eigenstates = [\"11000110\",\"01101100\",\"10001101\",\"01110010\",\"11100001\",\"10110100\"]\n",
    "results = {}\n",
    "for e in eigenstates:\n",
    "    counts = QPE(e)\n",
    "    measure = list(counts.keys())[0]\n",
    "    eigenstate = measure[n_ancilla:]\n",
    "    phase = measure[:n_ancilla]\n",
    "    results[eigenstate] = phase"
   ]
  },
  {
   "cell_type": "code",
   "execution_count": 36,
   "id": "assumed-swedish",
   "metadata": {},
   "outputs": [
    {
     "name": "stdout",
     "output_type": "stream",
     "text": [
      "Counter({'11010111000110': 1033, '00101011000110': 632, '00111111000110': 557, '00110111000110': 545, '00111011000110': 441, '11000111000110': 418, '10010111000110': 385, '01010111000110': 360, '11011111000110': 318, '01110111000110': 276, '11011011000110': 231, '11010011000110': 216, '10111111000110': 215, '10111011000110': 214, '00101111000110': 206, '01111111000110': 204, '11110111000110': 183, '01111011000110': 180, '11111011000110': 169, '00100011000110': 168, '10101011000110': 155, '00110011000110': 154, '00010111000110': 151, '00001011000110': 150, '01101011000110': 135, '10011111000110': 134, '01000111000110': 134, '10000111000110': 123, '11100111000110': 110, '10101111000110': 109, '00011111000110': 103, '11110011000110': 101, '10110111000110': 98, '01011111000110': 88, '10010011000110': 88, '11101111000110': 85, '00001111000110': 83, '10110011000110': 83, '01010011000110': 83, '11001011000110': 79, '11111111000110': 77, '01110011000110': 75, '10100011000110': 66, '01011011000110': 65, '01101111000110': 65, '00000011000110': 64, '10011011000110': 54, '11001111000110': 48, '01100011000110': 40, '01001111000110': 35, '10001011000110': 34, '00000111000110': 33, '00100111000110': 29, '11100011000110': 27, '00011011000110': 19, '01000011000110': 16, '11101011000110': 15, '00010011000110': 11, '01100111000110': 9, '10000011000110': 7, '10100111000110': 5, '01001011000110': 4, '10001111000110': 3, '11000011000110': 2})\n",
      "Counter({'11100110001101': 1158, '00010110001101': 852, '00011010001101': 583, '11110110001101': 515, '10100110001101': 480, '01100110001101': 443, '00011110001101': 431, '00010010001101': 399, '11000110001101': 311, '01010110001101': 304, '10010110001101': 255, '00000110001101': 241, '00001110001101': 238, '00110110001101': 236, '11101110001101': 232, '10110110001101': 222, '11111010001101': 202, '10011110001101': 201, '10010010001101': 159, '01011110001101': 156, '10011010001101': 155, '01000110001101': 154, '01110110001101': 146, '01011010001101': 143, '01010010001101': 132, '11011110001101': 122, '00111110001101': 116, '00100110001101': 90, '01101010001101': 74, '00111010001101': 70, '00000010001101': 69, '11001010001101': 67, '00001010001101': 63, '11010010001101': 62, '00101010001101': 61, '11110010001101': 61, '11101010001101': 56, '10111010001101': 56, '00110010001101': 50, '11011010001101': 49, '10101110001101': 48, '10001110001101': 45, '10001010001101': 45, '01001110001101': 44, '10000110001101': 40, '11100010001101': 37, '01101110001101': 37, '10110010001101': 37, '11010110001101': 32, '10101010001101': 30, '01100010001101': 29, '11000010001101': 26, '11001110001101': 25, '11111110001101': 23, '01111010001101': 17, '10000010001101': 16, '01110010001101': 11, '10100010001101': 9, '10111110001101': 9, '00100010001101': 7, '01000010001101': 7, '00101110001101': 6, '01111110001101': 6})\n",
      "Counter({'00001011100001': 1309, '11110111100001': 742, '00001111100001': 596, '11111111100001': 532, '01001011100001': 443, '10001011100001': 422, '11101011100001': 345, '00010111100001': 256, '00000011100001': 248, '10001111100001': 244, '00101011100001': 238, '10110111100001': 232, '01001111100001': 206, '01111111100001': 197, '01110111100001': 196, '10111111100001': 186, '11001011100001': 178, '11011111100001': 171, '11100111100001': 167, '00011011100001': 162, '00101111100001': 160, '11100011100001': 154, '11101111100001': 147, '10101011100001': 145, '11110011100001': 136, '11010111100001': 130, '11011011100001': 114, '00011111100001': 100, '10101111100001': 97, '11111011100001': 93, '10000011100001': 91, '01010111100001': 89, '01111011100001': 89, '01110011100001': 89, '01011111100001': 87, '00110011100001': 85, '01100111100001': 83, '00100111100001': 79, '10011011100001': 77, '01000011100001': 74, '00000111100001': 71, '10110011100001': 68, '10100111100001': 50, '10111011100001': 49, '11001111100001': 46, '00111111100001': 46, '11010011100001': 44, '01101111100001': 43, '01011011100001': 41, '10100011100001': 41, '01100011100001': 38, '10000111100001': 34, '11000011100001': 33, '00010011100001': 32, '00110111100001': 27, '01101011100001': 27, '11000111100001': 23, '01000111100001': 23, '10011111100001': 23, '00111011100001': 18, '10010111100001': 14, '01010011100001': 10, '10010011100001': 7, '00100011100001': 3})\n"
     ]
    }
   ],
   "source": [
    "#compute phase for all eigenstates\n",
    "\n",
    "eigenstates = [\"11000110\", \"10001101\", \"11100001\"]\n",
    "results = {}\n",
    "for e in eigenstates:\n",
    "    counts = QPE(e)\n",
    "    measure = list(counts.keys())[0]\n",
    "    eigenstate = measure[n_ancilla:]\n",
    "    phase = measure[:n_ancilla]\n",
    "    results[eigenstate] = phase"
   ]
  },
  {
   "cell_type": "code",
   "execution_count": 37,
   "id": "intelligent-angle",
   "metadata": {},
   "outputs": [
    {
     "name": "stdout",
     "output_type": "stream",
     "text": [
      "Phase for eigenstate 11000110 : 110001\n",
      "Phase for eigenstate 10001101 : 111001\n",
      "Phase for eigenstate 11100001 : 000010\n"
     ]
    }
   ],
   "source": [
    "for e in results.keys():\n",
    "    print (\"Phase for eigenstate\",e,\":\",results[e])"
   ]
  }
 ],
 "metadata": {
  "kernelspec": {
   "display_name": "conda_braket",
   "language": "python",
   "name": "conda_braket"
  },
  "language_info": {
   "codemirror_mode": {
    "name": "ipython",
    "version": 3
   },
   "file_extension": ".py",
   "mimetype": "text/x-python",
   "name": "python",
   "nbconvert_exporter": "python",
   "pygments_lexer": "ipython3",
   "version": "3.7.9"
  }
 },
 "nbformat": 4,
 "nbformat_minor": 5
}